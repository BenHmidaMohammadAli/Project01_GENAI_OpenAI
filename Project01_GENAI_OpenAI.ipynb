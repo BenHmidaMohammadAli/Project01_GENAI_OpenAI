{
  "cells": [
    {
      "cell_type": "markdown",
      "metadata": {
        "id": "KfcHjbRfjDvb"
      },
      "source": [
        "## Prompting an LLM in code using openai"
      ]
    },
    {
      "cell_type": "markdown",
      "metadata": {
        "id": "VzH7lOUgjCPe"
      },
      "source": [
        "# Import the necessary libraries"
      ]
    },
    {
      "cell_type": "code",
      "execution_count": null,
      "metadata": {
        "id": "_NSp-0oIkfhw"
      },
      "outputs": [],
      "source": [
        "import openai\n",
        "import os"
      ]
    },
    {
      "cell_type": "markdown",
      "metadata": {
        "id": "qURZmBUgk0TS"
      },
      "source": [
        "# Set OpenAI API key from environment variable"
      ]
    },
    {
      "cell_type": "code",
      "execution_count": null,
      "metadata": {
        "id": "bL9EmZsxjG0E"
      },
      "outputs": [],
      "source": [
        "OPENAI_API_KEY =  \"Your OPENAI_API_KEY \"\n",
        "openai.api_key = OPENAI_API_KEY\n",
        "\n",
        "def llm_response(prompt):\n",
        "    response = openai.ChatCompletion.create(\n",
        "        model='gpt-3.5-turbo',\n",
        "        messages=[{'role':'user','content':prompt}],\n",
        "        temperature=0\n",
        "    )\n",
        "    return response.choices[0].message['content']"
      ]
    },
    {
      "cell_type": "markdown",
      "metadata": {
        "id": "PBgrf3bflqIq"
      },
      "source": [
        "# Define a prompt to classify the sentiment of a given review"
      ]
    },
    {
      "cell_type": "code",
      "execution_count": null,
      "metadata": {
        "id": "ggOp4iQujkR7"
      },
      "outputs": [],
      "source": [
        "prompt = '''\n",
        "    Determine whether the sentiment\n",
        "    of the following review is positive or negative:\n",
        "\n",
        "    The banana pudding was really tasty!\n",
        "'''"
      ]
    },
    {
      "cell_type": "code",
      "execution_count": null,
      "metadata": {
        "id": "bUXzBN3nlyF9"
      },
      "outputs": [],
      "source": [
        "response = llm_response(prompt)\n",
        "print(response)"
      ]
    },
    {
      "cell_type": "markdown",
      "metadata": {
        "id": "u0LmbLKNkCB_"
      },
      "source": [
        "# Define a prompt to classify the sentiment of a given list of review"
      ]
    },
    {
      "cell_type": "code",
      "execution_count": null,
      "metadata": {
        "id": "U10np9zIkEnd"
      },
      "outputs": [],
      "source": [
        "all_reviews = [\n",
        "    'The mochi is excellent!',\n",
        "    'Best soup dumplings I have ever eaten.',\n",
        "    'Not worth the 3 month wait for a reservation.',\n",
        "    'The colorful tablecloths made me smile!',\n",
        "    'The pasta was cold.'\n",
        "]\n",
        "\n",
        "all_reviews"
      ]
    },
    {
      "cell_type": "code",
      "execution_count": null,
      "metadata": {
        "id": "4N9bISylkIAv"
      },
      "outputs": [],
      "source": [
        "all_sentiments = []\n",
        "for review in all_reviews:\n",
        "    prompt = f'''\n",
        "        Classify the following review\n",
        "        as having either a positive or\n",
        "        negative sentiment. State your answer\n",
        "        as a single word, either \"positive\" or\n",
        "        \"negative\":\n",
        "\n",
        "        {review}\n",
        "        '''\n",
        "    response = llm_response(prompt)\n",
        "    all_sentiments.append(response)\n",
        "\n",
        "all_sentiments"
      ]
    },
    {
      "cell_type": "code",
      "execution_count": null,
      "metadata": {
        "id": "AoWBy4N4kJf2"
      },
      "outputs": [],
      "source": [
        "num_positive = 0\n",
        "num_negative = 0\n",
        "for sentiment in all_sentiments:\n",
        "    if sentiment == 'positive':\n",
        "        num_positive += 1\n",
        "    elif sentiment == 'negative':\n",
        "        num_negative += 1\n",
        "print(f\"There are {num_positive} positive and {num_negative} negative reviews.\")"
      ]
    }
  ],
  "metadata": {
    "colab": {
      "provenance": []
    },
    "kernelspec": {
      "display_name": "Python 3",
      "name": "python3"
    },
    "language_info": {
      "name": "python"
    }
  },
  "nbformat": 4,
  "nbformat_minor": 0
}
